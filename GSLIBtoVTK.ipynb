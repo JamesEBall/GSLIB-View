{
 "metadata": {
  "language_info": {
   "codemirror_mode": {
    "name": "ipython",
    "version": 3
   },
   "file_extension": ".py",
   "mimetype": "text/x-python",
   "name": "python",
   "nbconvert_exporter": "python",
   "pygments_lexer": "ipython3",
   "version": "3.8.5"
  },
  "orig_nbformat": 2,
  "kernelspec": {
   "name": "python385jvsc74a57bd035eb7b75bd6ac08fabafb497043a7acd4b3e408f49582a0774a710c5864212ea",
   "display_name": "Python 3.8.5 64-bit ('base': conda)"
  },
  "metadata": {
   "interpreter": {
    "hash": "a57fd775e9e3d52bad90169532fbb68f44fab0d4f6380d9d736c13c9dd3d13de"
   }
  }
 },
 "nbformat": 4,
 "nbformat_minor": 2,
 "cells": [
  {
   "cell_type": "code",
   "execution_count": null,
   "metadata": {},
   "outputs": [],
   "source": [
    "import pygeostat as gs\n",
    "import re\n",
    "#import numba"
   ]
  },
  {
   "cell_type": "code",
   "execution_count": null,
   "metadata": {},
   "outputs": [],
   "source": [
    "#defines grid shape form input GSLIB file\n",
    "def gslibdims(input): \n",
    "        file =  open(input,\"r\")\n",
    "        firstline  = file.readline()\n",
    "        dimsdict = re.findall(r\"\\d+\", firstline)\n",
    "        grdx = int(dimsdict[0])\n",
    "        grdy = int(dimsdict[1])\n",
    "        grdz = int(dimsdict[2])\n",
    "        dict = [grdx, 1, 1, grdy, 1, 1, grdz, .1, 1] #change these params for different grid lag sizes\n",
    "        return dict\n",
    "\n"
   ]
  },
  {
   "cell_type": "code",
   "execution_count": null,
   "metadata": {},
   "outputs": [],
   "source": [
    "#define input and output file location/names\n",
    "filename = 'Data/LS BF gslib'\n",
    "outfilename = 'Data/outvtkfl'\n",
    "\n",
    "\n",
    "griddef = gs.GridDef(gslibdims(filename))\n",
    "\n",
    "#read gslib data file into array\n",
    "data_file = gs.DataFile(filename ,\n",
    "                        griddef=griddef,\n",
    "                        fltype = 'gslib')#,\n"
   ]
  },
  {
   "cell_type": "code",
   "execution_count": null,
   "metadata": {},
   "outputs": [],
   "source": [
    "#validation: plot information about imported data\n",
    "data_file\n",
    "gs.plotting.slice_plot(data = data_file)"
   ]
  },
  {
   "cell_type": "code",
   "execution_count": null,
   "metadata": {},
   "outputs": [],
   "source": [
    "#export data as paraview VTK file\n",
    "data_file.write_file(flname=outfilename,  fltype='VTK')"
   ]
  },
  {
   "cell_type": "code",
   "execution_count": null,
   "metadata": {},
   "outputs": [],
   "source": [
    "#read columns data\n",
    "data_file.columns.values"
   ]
  }
 ]
}